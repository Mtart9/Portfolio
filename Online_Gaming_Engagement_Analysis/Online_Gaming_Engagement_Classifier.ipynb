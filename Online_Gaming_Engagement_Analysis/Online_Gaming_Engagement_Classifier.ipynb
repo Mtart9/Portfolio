{
 "cells": [
  {
   "cell_type": "markdown",
   "id": "fa5e62ad",
   "metadata": {},
   "source": [
    "# Online Gaming Engagement Prediction using XGBoost"
   ]
  },
  {
   "cell_type": "code",
   "execution_count": null,
   "id": "477baf75",
   "metadata": {},
   "outputs": [],
   "source": [
    "import pandas as pd\n",
    "from sklearn.model_selection import train_test_split\n",
    "from sklearn.preprocessing import LabelEncoder\n",
    "from xgboost import XGBClassifier\n",
    "from sklearn.metrics import classification_report, accuracy_score, confusion_matrix\n"
   ]
  },
  {
   "cell_type": "code",
   "execution_count": null,
   "id": "0d27fa5f",
   "metadata": {},
   "outputs": [],
   "source": [
    "file_path = \"C:/Users/Micha/Desktop/Data/online_gaming_behavior_dataset.csv\"\n",
    "df = pd.read_csv(file_path)\n",
    "df.head()\n"
   ]
  },
  {
   "cell_type": "code",
   "execution_count": null,
   "id": "3a9b5e52",
   "metadata": {},
   "outputs": [],
   "source": [
    "print(df.dtypes)\n",
    "print(\"\\nMissing values in each column:\")\n",
    "print(df.isnull().sum())\n"
   ]
  },
  {
   "cell_type": "code",
   "execution_count": null,
   "id": "bfeef3a3",
   "metadata": {},
   "outputs": [],
   "source": [
    "df = pd.get_dummies(df, columns=['Gender', 'Location', 'GameGenre', 'InGamePurchases', 'GameDifficulty'], drop_first=True)\n",
    "df.head()\n"
   ]
  },
  {
   "cell_type": "code",
   "execution_count": null,
   "id": "ab4d79c2",
   "metadata": {},
   "outputs": [],
   "source": [
    "label_encoder = LabelEncoder()\n",
    "df['EngagementLevel_encoded'] = label_encoder.fit_transform(df['EngagementLevel'])\n"
   ]
  },
  {
   "cell_type": "code",
   "execution_count": null,
   "id": "8fa95f59",
   "metadata": {},
   "outputs": [],
   "source": [
    "X = df.drop(['PlayerID', 'EngagementLevel', 'EngagementLevel_encoded'], axis=1)\n",
    "y = df['EngagementLevel_encoded']\n"
   ]
  },
  {
   "cell_type": "code",
   "execution_count": null,
   "id": "36080619",
   "metadata": {},
   "outputs": [],
   "source": [
    "X_train, X_test, y_train, y_test = train_test_split(X, y, test_size=0.2, random_state=42)\n"
   ]
  },
  {
   "cell_type": "code",
   "execution_count": null,
   "id": "ac527b2a",
   "metadata": {},
   "outputs": [],
   "source": [
    "model = XGBClassifier(eval_metric='mlogloss')\n",
    "model.fit(X_train, y_train)\n"
   ]
  },
  {
   "cell_type": "code",
   "execution_count": null,
   "id": "804c67d6",
   "metadata": {},
   "outputs": [],
   "source": [
    "y_pred = model.predict(X_test)\n",
    "\n",
    "print(\"Confusion Matrix:\\n\", confusion_matrix(y_test, y_pred))\n",
    "print(\"\\nClassification Report:\\n\", classification_report(y_test, y_pred))\n",
    "print(\"Accuracy:\", accuracy_score(y_test, y_pred))\n"
   ]
  },
  {
   "cell_type": "code",
   "execution_count": null,
   "id": "418c652e",
   "metadata": {},
   "outputs": [],
   "source": [
    "print(\"\\n--- Predict Engagement Level ---\")\n",
    "input_data = {}\n",
    "\n",
    "input_data['PlayTimeHours'] = float(input(\"Enter PlayTimeHours: \"))\n",
    "input_data['SessionsPerWeek'] = int(input(\"Enter SessionsPerWeek: \"))\n",
    "input_data['AvgSessionDurationMinutes'] = float(input(\"Enter AvgSessionDurationMinutes: \"))\n",
    "input_data['PlayerLevel'] = int(input(\"Enter PlayerLevel: \"))\n",
    "input_data['AchievementsUnlocked'] = int(input(\"Enter AchievementsUnlocked: \"))\n",
    "input_data['Age'] = int(input(\"Enter Age: \"))\n",
    "input_data['InGamePurchases_1'] = int(input(\"Did the player make in-game purchases? (1=yes, 0=no): \"))\n",
    "\n",
    "gender = input(\"Is the player Male? (1=yes, 0=no): \").strip()\n",
    "input_data['Gender_Male'] = int(gender)\n",
    "\n",
    "location = input(\"Where is the player from? (Europe/Other/USA): \").strip().lower()\n",
    "input_data['Location_Europe'] = 1 if location == 'europe' else 0\n",
    "input_data['Location_Other'] = 1 if location == 'other' else 0\n",
    "input_data['Location_USA'] = 1 if location == 'usa' else 0\n",
    "\n",
    "genre = input(\"What is the game genre? (RPG/Simulation/Sports/Strategy/Other): \").strip().lower()\n",
    "input_data['GameGenre_RPG'] = 1 if genre == 'rpg' else 0\n",
    "input_data['GameGenre_Simulation'] = 1 if genre == 'simulation' else 0\n",
    "input_data['GameGenre_Sports'] = 1 if genre == 'sports' else 0\n",
    "input_data['GameGenre_Strategy'] = 1 if genre == 'strategy' else 0\n",
    "input_data['GameGenre_Other'] = 1 if genre == 'other' else 0\n",
    "\n",
    "difficulty = input(\"What is the game difficulty? (Easy/Medium/Hard): \").strip().lower()\n",
    "input_data['GameDifficulty_Easy'] = 1 if difficulty == 'easy' else 0\n",
    "input_data['GameDifficulty_Medium'] = 1 if difficulty == 'medium' else 0\n",
    "input_data['GameDifficulty_Hard'] = 1 if difficulty == 'hard' else 0\n",
    "\n",
    "user_df = pd.DataFrame([input_data], columns=X.columns)\n",
    "\n",
    "user_pred = model.predict(user_df)\n",
    "predicted_label = label_encoder.inverse_transform(user_pred)[0]\n",
    "\n",
    "print(f\"\\n✅ Predicted Engagement Level: {predicted_label}\")\n"
   ]
  }
 ],
 "metadata": {
  "kernelspec": {
   "display_name": "Python 3",
   "language": "python",
   "name": "python3"
  },
  "language_info": {
   "codemirror_mode": {
    "name": "ipython",
    "version": 3
   },
   "file_extension": ".py",
   "mimetype": "text/x-python",
   "name": "python",
   "nbconvert_exporter": "python",
   "pygments_lexer": "ipython3",
   "version": "3.9.6"
  }
 },
 "nbformat": 4,
 "nbformat_minor": 5
}
