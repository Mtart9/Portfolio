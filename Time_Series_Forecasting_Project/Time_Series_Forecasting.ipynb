{
 "cells": [
  {
   "cell_type": "markdown",
   "id": "fcd6f97c",
   "metadata": {},
   "source": [
    "\n",
    "# Time Series Forecasting: VOO Stock Using LSTM\n",
    "\n",
    "**Author**: Michael Tartamella  \n",
    "**Description**: This notebook uses an LSTM model to forecast future closing prices of the VOO ETF using historical data from Yahoo Finance.\n"
   ]
  },
  {
   "cell_type": "code",
   "execution_count": null,
   "id": "b8c6eb39",
   "metadata": {},
   "outputs": [],
   "source": [
    "\n",
    "import numpy as np\n",
    "from tensorflow import keras\n",
    "from sklearn.preprocessing import StandardScaler\n",
    "import matplotlib.pyplot as plt\n",
    "import yfinance as yf\n",
    "import random\n",
    "import tensorflow as tf\n",
    "from sklearn.metrics import mean_squared_error, mean_absolute_error, r2_score\n"
   ]
  },
  {
   "cell_type": "code",
   "execution_count": null,
   "id": "c60a79fb",
   "metadata": {},
   "outputs": [],
   "source": [
    "\n",
    "# Set random seed for reproducibility\n",
    "seed = 42\n",
    "np.random.seed(seed)\n",
    "random.seed(seed)\n",
    "tf.random.set_seed(seed)\n"
   ]
  },
  {
   "cell_type": "code",
   "execution_count": null,
   "id": "27258754",
   "metadata": {},
   "outputs": [],
   "source": [
    "\n",
    "# Load VOO data using Yahoo Finance\n",
    "ticker_symbol = \"VOO\"\n",
    "ticker_data = yf.Ticker(ticker_symbol)\n",
    "data = ticker_data.history(period='max')\n",
    "data = data.sort_index(ascending=True)\n",
    "\n",
    "# Plot closing price\n",
    "plt.figure(figsize=(12, 6))\n",
    "plt.plot(data['Close'], label='Close', color='blue')\n",
    "plt.title('VOO Closing Price Over Time')\n",
    "plt.xlabel('Date')\n",
    "plt.ylabel('Price')\n",
    "plt.legend()\n",
    "plt.show()\n",
    "\n",
    "# Plot volume\n",
    "plt.figure(figsize=(12, 6))\n",
    "plt.plot(data['Volume'], label='Volume', color='blue')\n",
    "plt.title('Volume Over Time')\n",
    "plt.xlabel('Date')\n",
    "plt.ylabel('Volume')\n",
    "plt.legend()\n",
    "plt.show()\n"
   ]
  },
  {
   "cell_type": "code",
   "execution_count": null,
   "id": "f346a4a4",
   "metadata": {},
   "outputs": [],
   "source": [
    "\n",
    "# Filter close prices\n",
    "stock_close = data.filter(['Close'])\n",
    "dataset = stock_close.values\n",
    "\n",
    "# Train/test split and lookback window\n",
    "training_percent = 0.8\n",
    "lookback_window = 60\n",
    "training_data_len = int(np.ceil(len(dataset) * training_percent))\n",
    "\n",
    "train_data_raw = dataset[:training_data_len]\n",
    "test_data_raw = dataset[training_data_len:]\n",
    "\n",
    "# Scale training data and test data\n",
    "scaler = StandardScaler()\n",
    "scaled_train = scaler.fit_transform(train_data_raw)\n",
    "scaled_test = scaler.transform(test_data_raw)\n"
   ]
  },
  {
   "cell_type": "code",
   "execution_count": null,
   "id": "274cf6dd",
   "metadata": {},
   "outputs": [],
   "source": [
    "\n",
    "# Create training sequences\n",
    "X_train, y_train = [], []\n",
    "for i in range(lookback_window, len(scaled_train)):\n",
    "    X_train.append(scaled_train[i-lookback_window:i, 0])\n",
    "    y_train.append(scaled_train[i, 0])\n",
    "X_train = np.array(X_train)\n",
    "y_train = np.array(y_train)\n",
    "X_train = np.reshape(X_train, (X_train.shape[0], X_train.shape[1], 1))\n",
    "\n",
    "# Create test sequences\n",
    "full_test_input = np.concatenate((scaled_train[-lookback_window:], scaled_test), axis=0)\n",
    "X_test = []\n",
    "for i in range(lookback_window, len(full_test_input)):\n",
    "    X_test.append(full_test_input[i-lookback_window:i, 0])\n",
    "X_test = np.array(X_test)\n",
    "X_test = np.reshape(X_test, (X_test.shape[0], X_test.shape[1], 1))\n"
   ]
  },
  {
   "cell_type": "code",
   "execution_count": null,
   "id": "796743e4",
   "metadata": {},
   "outputs": [],
   "source": [
    "\n",
    "# Build the LSTM model\n",
    "model = keras.models.Sequential()\n",
    "model.add(keras.layers.LSTM(units=64, return_sequences=True, input_shape=(X_train.shape[1], 1)))\n",
    "model.add(keras.layers.LSTM(units=64, return_sequences=False))\n",
    "model.add(keras.layers.Dense(units=128, activation='relu'))\n",
    "model.add(keras.layers.Dropout(0.5))\n",
    "model.add(keras.layers.Dense(units=1))\n",
    "\n",
    "# Compile the model\n",
    "model.compile(optimizer='adam', loss='mae', metrics=[keras.metrics.RootMeanSquaredError()])\n",
    "model.summary()\n",
    "\n",
    "# Train the model\n",
    "training = model.fit(X_train, y_train, epochs=10, batch_size=32)\n"
   ]
  },
  {
   "cell_type": "code",
   "execution_count": null,
   "id": "345a4277",
   "metadata": {},
   "outputs": [],
   "source": [
    "\n",
    "# Make predictions\n",
    "predictions = model.predict(X_test)\n",
    "predictions = scaler.inverse_transform(predictions)\n",
    "\n",
    "# Combine and plot results\n",
    "train = data[:training_data_len]\n",
    "test = data[training_data_len:].copy()\n",
    "test['Predictions'] = predictions\n",
    "\n",
    "plt.figure(figsize=(12, 6))\n",
    "plt.plot(train['Close'], label='Train (Actual)', color='blue')\n",
    "plt.plot(test['Close'], label='Test (Actual)', color='red')\n",
    "plt.plot(test['Predictions'], label='Predictions', color='green')\n",
    "plt.title('VOO Closing Price Predictions')\n",
    "plt.xlabel('Date')\n",
    "plt.ylabel('Close Price')\n",
    "plt.legend()\n",
    "plt.show()\n"
   ]
  },
  {
   "cell_type": "code",
   "execution_count": null,
   "id": "6dd1dd2b",
   "metadata": {},
   "outputs": [],
   "source": [
    "\n",
    "y_test = test_data_raw  # True values (already unscaled)\n",
    "\n",
    "# Evaluation metrics\n",
    "rmse = np.sqrt(mean_squared_error(y_test, predictions))\n",
    "mae = mean_absolute_error(y_test, predictions)\n",
    "r2 = r2_score(y_test, predictions)\n",
    "\n",
    "print(f\"RMSE: {rmse:.2f}\")\n",
    "print(f\"MAE: {mae:.2f}\")\n",
    "print(f\"R² Score: {r2:.4f}\")\n"
   ]
  }
 ],
 "metadata": {
  "language_info": {
   "name": "python"
  }
 },
 "nbformat": 4,
 "nbformat_minor": 5
}
